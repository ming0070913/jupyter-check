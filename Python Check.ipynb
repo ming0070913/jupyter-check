{
 "cells": [
  {
   "cell_type": "code",
   "execution_count": 12,
   "metadata": {},
   "outputs": [
    {
     "name": "stdout",
     "output_type": "stream",
     "text": [
      "-------- System ---------\n",
      "Python:        ['3.7.1 (default, Oct 28 2018, 08:39:03) [MSC v.1912 64 bit (AMD64)]']\n",
      "System:        Windows\n",
      "Machine:       AMD64\n",
      "Platform:      Windows-10-10.0.17763-SP0\n",
      "Version:       10.0.17763\n",
      "Linux:         ('', '', '')\n",
      "Mac:           ('', ('', '', ''), '')\n",
      "Uname:         uname_result(system='Windows', node='CPX-ASSD0T53EQW', release='10', version='10.0.17763', machine='AMD64', processor='Intel64 Family 6 Model 142 Stepping 9, GenuineIntel')\n",
      "-------- Packages ---------\n",
      "### Data Processing ###\n",
      " Pandas          0.24.2\n",
      " NumPy           1.16.4\n",
      " SciPy           1.2.1\n",
      " StatsModels     0.10.0\n",
      " Pandasql        Version Unknown\n",
      "### Viualization ###\n",
      " Matplotlib      2.2.2\n",
      " Seaborn         0.9.0\n",
      " Plotly          Not Installed\n",
      " Bokeh           Not Installed\n",
      " Pydot           Not Installed\n",
      "### Machine Learning ###\n",
      " Sklearn         0.21.2\n",
      " XGBoost         0.90\n",
      " LightGBM        Not Installed\n",
      " CatBoost        Not Installed\n",
      "### Deep Learning ###\n",
      " TensorFlow      1.13.1\n",
      " Keras           2.2.4\n",
      " PyTorch         Not Installed\n",
      "### NLP ###\n",
      " NLTK            Not Installed\n",
      " SpaCy           Not Installed\n",
      " Gensim          Not Installed\n",
      "### Scraping ###\n",
      " Requests        2.22.0\n",
      " Scrapy          Not Installed\n"
     ]
    },
    {
     "name": "stderr",
     "output_type": "stream",
     "text": [
      "C:\\Users\\ming.k.choi\\AppData\\Local\\Continuum\\anaconda3\\envs\\py37\\lib\\site-packages\\ipykernel_launcher.py:13: DeprecationWarning: dist() and linux_distribution() functions are deprecated in Python 3.5\n",
      "  del sys.path[0]\n"
     ]
    }
   ],
   "source": [
    "import sys\n",
    "import os\n",
    "import platform\n",
    "\n",
    "LJUST = 15\n",
    "\n",
    "print('-------- System ---------')\n",
    "print(\"{}{}\".format(\"Python:\".ljust(LJUST, ' '), sys.version.split('\\n')))\n",
    "print(\"{}{}\".format(\"System:\".ljust(LJUST, ' '), platform.system()))\n",
    "print(\"{}{}\".format(\"Machine:\".ljust(LJUST, ' '), platform.machine()))\n",
    "print(\"{}{}\".format(\"Platform:\".ljust(LJUST, ' '), platform.platform()))\n",
    "print(\"{}{}\".format(\"Version:\".ljust(LJUST, ' '), platform.version()))\n",
    "print(\"{}{}\".format(\"Linux:\".ljust(LJUST, ' '), platform.linux_distribution()))\n",
    "print(\"{}{}\".format(\"Mac:\".ljust(LJUST, ' '), platform.mac_ver()))\n",
    "print(\"{}{}\".format(\"Uname:\".ljust(LJUST, ' '), platform.uname()))\n",
    "\n",
    "def check_package(name, package):\n",
    "    try:\n",
    "        exec('import {}'.format(package))\n",
    "        try:\n",
    "            exec('print(\\' {}\\', {}.__version__)'.format(name.ljust(LJUST, ' '), package))\n",
    "        except:\n",
    "            exec('print(\\' {} Version Unknown\\')'.format(name.ljust(LJUST, ' '), package))\n",
    "    except:\n",
    "        print(' {} Not Installed'.format(name.ljust(LJUST, ' ')))\n",
    "\n",
    "print('-------- Packages ---------')\n",
    "\n",
    "print('### Data Processing ###')\n",
    "check_package('Pandas', 'pandas')\n",
    "check_package('NumPy', 'numpy')\n",
    "check_package('SciPy', 'scipy')\n",
    "check_package('StatsModels', 'statsmodels')\n",
    "check_package('Pandasql', 'pandasql')\n",
    "\n",
    "print('### Viualization ###')\n",
    "check_package('Matplotlib', 'matplotlib')\n",
    "check_package('Seaborn', 'seaborn')\n",
    "check_package('Plotly', 'plotly')\n",
    "check_package('Bokeh', 'bokeh')\n",
    "check_package('Pydot', 'pydot')\n",
    "\n",
    "print('### Machine Learning ###')\n",
    "check_package('Sklearn', 'sklearn')\n",
    "check_package('XGBoost', 'xgboost')\n",
    "check_package('LightGBM', 'lightgbm')\n",
    "check_package('CatBoost', 'catboost')\n",
    "\n",
    "print('### Deep Learning ###')\n",
    "check_package('TensorFlow', 'tensorflow')\n",
    "check_package('Keras', 'keras')\n",
    "check_package('PyTorch', 'pytorch')\n",
    "\n",
    "print('### NLP ###')\n",
    "check_package('NLTK', 'nltk')\n",
    "check_package('SpaCy', 'spacy')\n",
    "check_package('Gensim', 'gensim')\n",
    "\n",
    "print('### Scraping ###')\n",
    "check_package('Requests', 'requests')\n",
    "check_package('Scrapy', 'scrapy')"
   ]
  },
  {
   "cell_type": "code",
   "execution_count": 8,
   "metadata": {},
   "outputs": [
    {
     "data": {
      "text/plain": [
       "<module 'pandasql' from 'C:\\\\Users\\\\ming.k.choi\\\\AppData\\\\Local\\\\Continuum\\\\anaconda3\\\\envs\\\\py37\\\\lib\\\\site-packages\\\\pandasql\\\\__init__.py'>"
      ]
     },
     "execution_count": 8,
     "metadata": {},
     "output_type": "execute_result"
    }
   ],
   "source": [
    "pandasql"
   ]
  },
  {
   "cell_type": "code",
   "execution_count": 2,
   "metadata": {},
   "outputs": [
    {
     "data": {
      "text/plain": [
       "environ{'ALLUSERSPROFILE': 'C:\\\\ProgramData',\n",
       "        'APPDATA': 'C:\\\\Users\\\\Ming\\\\AppData\\\\Roaming',\n",
       "        'CLIENTNAME': 'HPCLN-AIR26',\n",
       "        'COMMONPROGRAMFILES': 'C:\\\\Program Files\\\\Common Files',\n",
       "        'COMMONPROGRAMFILES(X86)': 'C:\\\\Program Files (x86)\\\\Common Files',\n",
       "        'COMMONPROGRAMW6432': 'C:\\\\Program Files\\\\Common Files',\n",
       "        'COMPUTERNAME': 'DESKTOP-MING',\n",
       "        'COMSPEC': 'C:\\\\Windows\\\\system32\\\\cmd.exe',\n",
       "        'CONDA_DEFAULT_ENV': 'tensorflow',\n",
       "        'CONDA_EXE': 'C:\\\\Users\\\\Ming\\\\Anaconda3\\\\Scripts\\\\conda.exe',\n",
       "        'CONDA_PROMPT_MODIFIER': '(tensorflow) ',\n",
       "        'CONDA_PYTHON_EXE': 'C:\\\\Users\\\\Ming\\\\Anaconda3\\\\python.exe',\n",
       "        'CONDA_ROOT': 'C:\\\\Users\\\\Ming\\\\Anaconda3',\n",
       "        'CONDA_SHLVL': '1',\n",
       "        'CUDA_PATH': 'C:\\\\Program Files\\\\NVIDIA GPU Computing Toolkit\\\\CUDA\\\\v10.0',\n",
       "        'CUDA_PATH_V10_0': 'C:\\\\Program Files\\\\NVIDIA GPU Computing Toolkit\\\\CUDA\\\\v10.0',\n",
       "        'DRIVERDATA': 'C:\\\\Windows\\\\System32\\\\Drivers\\\\DriverData',\n",
       "        'HOMEDRIVE': 'C:',\n",
       "        'HOMEPATH': '\\\\Users\\\\Ming',\n",
       "        'INTEL_DEV_REDIST': 'C:\\\\Program Files (x86)\\\\Common Files\\\\Intel\\\\Shared Libraries\\\\',\n",
       "        'LOCALAPPDATA': 'C:\\\\Users\\\\Ming\\\\AppData\\\\Local',\n",
       "        'LOGONSERVER': '\\\\\\\\DESKTOP-MING',\n",
       "        'MIC_LD_LIBRARY_PATH': 'C:\\\\Program Files (x86)\\\\Common Files\\\\Intel\\\\Shared Libraries\\\\compiler\\\\lib\\\\mic',\n",
       "        'NUMBER_OF_PROCESSORS': '16',\n",
       "        'NVCUDASAMPLES10_0_ROOT': 'C:\\\\ProgramData\\\\NVIDIA Corporation\\\\CUDA Samples\\\\v10.0',\n",
       "        'NVCUDASAMPLES_ROOT': 'C:\\\\ProgramData\\\\NVIDIA Corporation\\\\CUDA Samples\\\\v10.0',\n",
       "        'NVTOOLSEXT_PATH': 'C:\\\\Program Files\\\\NVIDIA Corporation\\\\NvToolsExt\\\\',\n",
       "        'ONEDRIVE': 'C:\\\\Users\\\\Ming\\\\OneDrive',\n",
       "        'OS': 'Windows_NT',\n",
       "        'PATH': 'C:\\\\Users\\\\Ming\\\\Anaconda3\\\\envs\\\\tensorflow;C:\\\\Users\\\\Ming\\\\Anaconda3\\\\envs\\\\tensorflow\\\\Library\\\\mingw-w64\\\\bin;C:\\\\Users\\\\Ming\\\\Anaconda3\\\\envs\\\\tensorflow\\\\Library\\\\usr\\\\bin;C:\\\\Users\\\\Ming\\\\Anaconda3\\\\envs\\\\tensorflow\\\\Library\\\\bin;C:\\\\Users\\\\Ming\\\\Anaconda3\\\\envs\\\\tensorflow\\\\Scripts;C:\\\\Users\\\\Ming\\\\Anaconda3\\\\envs\\\\tensorflow\\\\bin;C:\\\\Users\\\\Ming\\\\Anaconda3;C:\\\\Users\\\\Ming\\\\Anaconda3\\\\Library\\\\mingw-w64\\\\bin;C:\\\\Users\\\\Ming\\\\Anaconda3\\\\Library\\\\usr\\\\bin;C:\\\\Users\\\\Ming\\\\Anaconda3\\\\Library\\\\bin;C:\\\\Users\\\\Ming\\\\Anaconda3\\\\Scripts;C:\\\\Program Files (x86)\\\\Common Files\\\\Intel\\\\Shared Libraries\\\\redist\\\\intel64\\\\compiler;C:\\\\Program Files\\\\NVIDIA GPU Computing Toolkit\\\\CUDA\\\\v10.0\\\\bin;C:\\\\Program Files\\\\NVIDIA GPU Computing Toolkit\\\\CUDA\\\\v10.0\\\\libnvvp;C:\\\\Windows\\\\system32;C:\\\\Windows;C:\\\\Windows\\\\System32\\\\Wbem;C:\\\\Windows\\\\System32\\\\WindowsPowerShell\\\\v1.0\\\\;C:\\\\Windows\\\\System32\\\\OpenSSH\\\\;C:\\\\Program Files (x86)\\\\NVIDIA Corporation\\\\PhysX\\\\Common;C:\\\\Program Files\\\\PuTTY\\\\;C:\\\\Program Files\\\\Microsoft VS Code\\\\bin;C:\\\\Program Files\\\\nodejs\\\\;C:\\\\Program Files\\\\Intel\\\\WiFi\\\\bin\\\\;C:\\\\Program Files\\\\Common Files\\\\Intel\\\\WirelessCommon\\\\;C:\\\\Program Files\\\\NVIDIA Corporation\\\\NVIDIA NvDLISR;C:\\\\Users\\\\Ming\\\\AppData\\\\Local\\\\Microsoft\\\\WindowsApps;C:\\\\Users\\\\Ming\\\\AppData\\\\Local\\\\atom\\\\bin;C:\\\\Users\\\\Ming\\\\AppData\\\\Local\\\\GitHubDesktop\\\\bin;C:\\\\Users\\\\Ming\\\\AppData\\\\Roaming\\\\npm;C:\\\\Program Files\\\\Intel\\\\WiFi\\\\bin\\\\;C:\\\\Program Files\\\\Common Files\\\\Intel\\\\WirelessCommon\\\\',\n",
       "        'PATHEXT': '.COM;.EXE;.BAT;.CMD;.VBS;.VBE;.JS;.JSE;.WSF;.WSH;.MSC',\n",
       "        'PROCESSOR_ARCHITECTURE': 'AMD64',\n",
       "        'PROCESSOR_IDENTIFIER': 'AMD64 Family 23 Model 8 Stepping 2, AuthenticAMD',\n",
       "        'PROCESSOR_LEVEL': '23',\n",
       "        'PROCESSOR_REVISION': '0802',\n",
       "        'PROGRAMDATA': 'C:\\\\ProgramData',\n",
       "        'PROGRAMFILES': 'C:\\\\Program Files',\n",
       "        'PROGRAMFILES(X86)': 'C:\\\\Program Files (x86)',\n",
       "        'PROGRAMW6432': 'C:\\\\Program Files',\n",
       "        'PROMPT': '(tensorflow) $P$G',\n",
       "        'PSMODULEPATH': 'C:\\\\Program Files\\\\WindowsPowerShell\\\\Modules;C:\\\\Windows\\\\system32\\\\WindowsPowerShell\\\\v1.0\\\\Modules;C:\\\\Program Files\\\\Intel\\\\',\n",
       "        'PUBLIC': 'C:\\\\Users\\\\Public',\n",
       "        'PYTHONIOENCODING': '950',\n",
       "        'SESSIONNAME': 'RDP-Tcp#83',\n",
       "        'SYSTEMDRIVE': 'C:',\n",
       "        'SYSTEMROOT': 'C:\\\\Windows',\n",
       "        'TEMP': 'C:\\\\Users\\\\Ming\\\\AppData\\\\Local\\\\Temp',\n",
       "        'TMP': 'C:\\\\Users\\\\Ming\\\\AppData\\\\Local\\\\Temp',\n",
       "        'USERDOMAIN': 'DESKTOP-MING',\n",
       "        'USERDOMAIN_ROAMINGPROFILE': 'DESKTOP-MING',\n",
       "        'USERNAME': 'Ming',\n",
       "        'USERPROFILE': 'C:\\\\Users\\\\Ming',\n",
       "        'WINDIR': 'C:\\\\Windows',\n",
       "        'CONDA_PREFIX': 'C:\\\\Users\\\\Ming\\\\Anaconda3\\\\envs\\\\tensorflow',\n",
       "        'JPY_INTERRUPT_EVENT': '2880',\n",
       "        'IPY_INTERRUPT_EVENT': '2880',\n",
       "        'JPY_PARENT_PID': '2860',\n",
       "        'TERM': 'xterm-color',\n",
       "        'CLICOLOR': '1',\n",
       "        'PAGER': 'cat',\n",
       "        'GIT_PAGER': 'cat',\n",
       "        'MPLBACKEND': 'module://ipykernel.pylab.backend_inline'}"
      ]
     },
     "execution_count": 2,
     "metadata": {},
     "output_type": "execute_result"
    }
   ],
   "source": [
    "import os\n",
    "os.environ"
   ]
  },
  {
   "cell_type": "code",
   "execution_count": 3,
   "metadata": {},
   "outputs": [
    {
     "name": "stdout",
     "output_type": "stream",
     "text": [
      "Device(s): [name: \"/device:CPU:0\"\n",
      "device_type: \"CPU\"\n",
      "memory_limit: 268435456\n",
      "locality {\n",
      "}\n",
      "incarnation: 11551784433997021265\n",
      ", name: \"/device:GPU:0\"\n",
      "device_type: \"GPU\"\n",
      "memory_limit: 6670351073\n",
      "locality {\n",
      "  bus_id: 1\n",
      "  links {\n",
      "  }\n",
      "}\n",
      "incarnation: 3133367656274131921\n",
      "physical_device_desc: \"device: 0, name: GeForce GTX 1080, pci bus id: 0000:07:00.0, compute capability: 6.1\"\n",
      "]\n",
      "GPU(s): ['/job:localhost/replica:0/task:0/device:GPU:0']\n"
     ]
    }
   ],
   "source": [
    "from tensorflow.python.client import device_lib\n",
    "print(\"Device(s):\", device_lib.list_local_devices())\n",
    "from keras import backend as K\n",
    "print(\"GPU(s):\", K.tensorflow_backend._get_available_gpus())"
   ]
  },
  {
   "cell_type": "code",
   "execution_count": 4,
   "metadata": {},
   "outputs": [
    {
     "name": "stdout",
     "output_type": "stream",
     "text": [
      "[[22. 28.]\n",
      " [49. 64.]]\n"
     ]
    }
   ],
   "source": [
    "# Test tesnorflow GPU run\n",
    "import tensorflow as tf\n",
    "with tf.device('/gpu:0'):\n",
    "    a = tf.constant([1.0, 2.0, 3.0, 4.0, 5.0, 6.0], shape=[2, 3], name='a')\n",
    "    b = tf.constant([1.0, 2.0, 3.0, 4.0, 5.0, 6.0], shape=[3, 2], name='b')\n",
    "    c = tf.matmul(a, b)\n",
    "\n",
    "with tf.Session() as sess:\n",
    "    print (sess.run(c)) # should print [[22., 28.], [49., 64.]] if GPU's available"
   ]
  },
  {
   "cell_type": "code",
   "execution_count": null,
   "metadata": {},
   "outputs": [],
   "source": []
  }
 ],
 "metadata": {
  "kernelspec": {
   "display_name": "Python 3",
   "language": "python",
   "name": "python3"
  },
  "language_info": {
   "codemirror_mode": {
    "name": "ipython",
    "version": 3
   },
   "file_extension": ".py",
   "mimetype": "text/x-python",
   "name": "python",
   "nbconvert_exporter": "python",
   "pygments_lexer": "ipython3",
   "version": "3.7.1"
  }
 },
 "nbformat": 4,
 "nbformat_minor": 2
}
